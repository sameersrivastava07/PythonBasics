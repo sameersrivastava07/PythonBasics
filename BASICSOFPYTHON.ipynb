{
  "nbformat": 4,
  "nbformat_minor": 0,
  "metadata": {
    "colab": {
      "provenance": []
    },
    "kernelspec": {
      "name": "python3",
      "display_name": "Python 3"
    },
    "language_info": {
      "name": "python"
    }
  },
  "cells": [
    {
      "cell_type": "code",
      "execution_count": null,
      "metadata": {
        "id": "Bv5NblRz10k9"
      },
      "outputs": [],
      "source": [
        "#Basics Of Python\n",
        "'''Question-1-> Explain the key features of Python that make it a popular choice for programming?\n",
        "Answer-1->\n",
        "        a.) Ease of Learning- Simple syntax and readability make it easier.\n",
        "        b.)Versatile nature- can be used for multiple purposes like web development,data analysis,machine learning,automation,backend and many more.\n",
        "        c.)Large library- large standard libraries available for various task.Till now 137000+ libraries are available.\n",
        "        d.)Readability- easier of access to everyone ,not much typical or difficult language.\n",
        "        e.)Huge Acctive Community- From various resources ,major companies as well etc.\n",
        "        f.)Good in performance\n",
        "        g.)Support various database and APIs.\n",
        "        h.)Accessible on various platforms- Windows,macOS,Linux.It is a portable code with minimal modifications.\n",
        "        i.)Image processing cabalities of Python.\n",
        "    These are the main key features of python,but there are more features of python that make it a popular choice for programming.'''\n",
        "\n"
      ]
    },
    {
      "cell_type": "code",
      "source": [
        "'''Question-2->Describe the role of predefined keywords in Python and provide examples of how they are used in a\n",
        "program?\n",
        "Answer-2->Predefined keywords in python programming are reserved word that holds special meaning and have special purpose,which is used todefine the syntax and structure\n",
        "      for coding.\n",
        "      ---->These keywords cannot be used as variable names,function names,or any other identifiers.'''\n",
        "      #for example\n",
        "help('keywords')\n",
        "#----------It will give the keywords that are used in Python programming.\n",
        "'''In those keywords we can take example of if,elif,and else'''\n",
        "age = 45\n",
        "if age<18:\n",
        "  print(\"You are not eligible for driving license\")\n",
        "elif age<=60:\n",
        "  print(\"You are eligible for driving license\")\n",
        "elif age>60 and age<=70:\n",
        "  print(\"You are eligible but with  few exceptional restriction\")\n",
        "else:\n",
        "  print(\"You should not drive\")\n",
        "\n",
        "#Here ,I have given the example of if,elif,else keywords...whereas 'print' and 'type' are built in funtions.\n"
      ],
      "metadata": {
        "id": "eMJ4IN7K9SDq"
      },
      "execution_count": null,
      "outputs": []
    },
    {
      "cell_type": "code",
      "source": [
        "'''Question-3->Compare and contrast mutable and immutable objects in Python with examples.\n",
        "Answer-3-> In Python,objects can be classified into two categories i.e Mutable and Immutable objects.\n",
        "        MUTABLE OBJECT---> Object/container whose state or value can be changed or modified after creation are mutable objects.\n",
        "           for example-Lists([]),Dictionaries({}),Sets(())'''\n",
        "#We will create a list,which will contain str,int,complex\n",
        "list1 = [\"apple\", \"mango\", 5, 6+3j]\n",
        "print(fruits)\n",
        "#list is being created,with indices,'0' for apple,'1' for mango,'2' for integer 5,and '3' for the last comlex number 6=3j\n",
        "#lets see\n",
        "list1[3]\n",
        "#this will show the last complex number 6+3j,\n",
        "    #suppose we want to change this by float value 6.34,so for this\n",
        "    #MUTABILITY\n",
        "list1[3]=6.34\n",
        "list1\n",
        "#LIST HAS BEEN MUTATED\n",
        "      '''IMMUTABLE OBJECT---> Objects or container whose cant be changed after its creation.\n",
        "      for example->integers,float,strings and tuples.'''\n",
        "string = \"pwskillsonline\"\n",
        "string\n",
        "#when we try to modify it ,suppose we want to change pwskillsonline to 'pwskillsokline'\n",
        "#for this,we try to mutate\n",
        "immutable_string[9]=k\n",
        "#it will throw an error ,means it is immutable and cant be changed"
      ],
      "metadata": {
        "id": "QMGq9emlFKJi"
      },
      "execution_count": null,
      "outputs": []
    },
    {
      "cell_type": "code",
      "source": [
        "'''Question-4-> Discuss the different types of operators in Python and provide examples of how they are used?\n",
        "Answer-4-> Operators in Python\n",
        "Python has various types of operators that can be used to perform different operations. Here are some of the main types of operators:\n",
        "\n",
        "1. Arithmetic Operators\n",
        " + (addition)\n",
        " - (subtraction)\n",
        " * (multiplication)\n",
        " / (division)\n",
        " ** (exponentiation)--It will give value of Powers\n",
        "  % (modulus)--It gives reminder\n",
        " // (floor division)--It gives nearest integer when value of division went into float.'''\n",
        " #For example\n",
        " #Addition\n",
        "a = 5\n",
        "b = 3\n",
        "print(a + b)\n",
        "#Output: 8\n",
        "#Subtraction\n",
        "a = 5\n",
        "b = 3\n",
        "print(a - b)\n",
        "#Output: 2\n",
        "#Multiplcation\n",
        "a = 5\n",
        "b = 3\n",
        "print(a * b)\n",
        "#Output: 15\n",
        "#Division\n",
        "a = 10\n",
        "b = 2\n",
        "print(a / b)\n",
        "#Output: 5.0\n",
        "#Exponentiation\n",
        "a = 2\n",
        "b = 3\n",
        "print(a ** b)\n",
        "#Output: 8\n",
        "#Modulus\n",
        "a = 17\n",
        "b = 5\n",
        "print(a % b)\n",
        "#Output: 2 |\n",
        "#FlooRDivision\n",
        "a = 17\n",
        "b = 5\n",
        "print(a // b)\n",
        "#Output: 3 |\n",
        "\n"
      ],
      "metadata": {
        "id": "AJ7ZrlJBOR-N"
      },
      "execution_count": null,
      "outputs": []
    },
    {
      "cell_type": "code",
      "source": [
        "'''2. Comparison Operators\n",
        "== (equal to)\n",
        "!= (not equal to)\n",
        "> (greater than)\n",
        "< (less than)\n",
        ">= (greater than or equal to)\n",
        "<= (less than or equal to)'''\n",
        "# Example\n",
        "# ==\n",
        "# Equal to\n",
        "a = 5\n",
        "b = 5\n",
        "print(a == b)\n",
        "# Output: True\n",
        "# !=\n",
        "# Not equal to\n",
        "a = 5\n",
        "b = 3\n",
        "print(a != b)\n",
        "#Output: True\n",
        "# >\n",
        "# Greater than\n",
        "a = 5\n",
        "b = 3\n",
        "print(a > b)\n",
        "# Output: True\n",
        "# <\n",
        "# Less than\n",
        "a = 5\n",
        "b = 3\n",
        "print(a < b)\n",
        "# Output: False\n",
        "# >=\n",
        "# Greater than or equal\n",
        "a = 5\n",
        "b = 5\n",
        "print(a >= b)\n",
        "# Output: True\n",
        "# <=\n",
        "# Less than or equal\n",
        "a = 5\n",
        "b = 5\n",
        "print(a <= b)\n",
        "# Output: True"
      ],
      "metadata": {
        "id": "MFFl6Ju5R2wy"
      },
      "execution_count": null,
      "outputs": []
    },
    {
      "cell_type": "code",
      "source": [
        "'''3. Logical Operators\n",
        "- and (logical and)\n",
        "- or (logical or)\n",
        "- not (logical not)\n",
        "And Logical---true and true--True\n",
        "              true and false--false\n",
        "              false and true--false\n",
        "              false and false--false'''\n",
        "#for example\n",
        "True and True\n",
        "#output--True\n",
        "False and True\n",
        "#output--False\n"
      ],
      "metadata": {
        "colab": {
          "base_uri": "https://localhost:8080/"
        },
        "id": "x_a8pTd5TkOs",
        "outputId": "41d85902-1214-41bd-c713-490bb50b7fe5"
      },
      "execution_count": 38,
      "outputs": [
        {
          "output_type": "execute_result",
          "data": {
            "text/plain": [
              "False"
            ]
          },
          "metadata": {},
          "execution_count": 38
        }
      ]
    },
    {
      "cell_type": "code",
      "source": [
        "'''Or Logical operator\n",
        "              true or true--true\n",
        "              true or false--true\n",
        "              false or true--true\n",
        "              false or false-- false'''\n",
        "#for example\n",
        "True or False\n",
        "#output-- True\n",
        "False or False\n",
        "#output--False\n",
        "\n"
      ],
      "metadata": {
        "id": "079XZ4EXWJGS"
      },
      "execution_count": null,
      "outputs": []
    },
    {
      "cell_type": "code",
      "source": [
        "#not operator\n",
        "not True\n",
        "#output False\n",
        "not False\n",
        "#output True"
      ],
      "metadata": {
        "colab": {
          "base_uri": "https://localhost:8080/"
        },
        "id": "wOb79UUqWSI3",
        "outputId": "30ad9b0c-daef-4bc8-96f0-221c8f172a94"
      },
      "execution_count": 40,
      "outputs": [
        {
          "output_type": "execute_result",
          "data": {
            "text/plain": [
              "True"
            ]
          },
          "metadata": {},
          "execution_count": 40
        }
      ]
    },
    {
      "cell_type": "code",
      "source": [
        "'''4. Assignment Operators\n",
        "- = (assignment)\n",
        "- += (addition assignment)\n",
        "- -= (subtraction assignment)\n",
        "- *= (multiplication assignment)\n",
        "- /= (division assignment)'''\n",
        "\n"
      ],
      "metadata": {
        "id": "FNf7vG_CW3Rs"
      },
      "execution_count": null,
      "outputs": []
    },
    {
      "cell_type": "code",
      "source": [
        "# Assignment Operators\n",
        "print(\"Assignment Operators:\")\n",
        "a = 5\n",
        "print(\"Assignment:\", a)\n",
        "a += 3\n",
        "#output 8\n",
        "print(\"Addition assignment:\", a)\n",
        "a = 5\n",
        "a -= 3\n",
        "#output 2\n",
        "print(\"Subtraction assignment:\", a)\n",
        "a = 5\n",
        "a *= 3\n",
        "#output 15\n",
        "print(\"Multiplication assignment:\", a)\n",
        "a = 10\n",
        "a /= 2\n",
        "print(\"Division assignment:\", a)\n",
        "#output = 5\n"
      ],
      "metadata": {
        "id": "CkC-H_l4XHs2"
      },
      "execution_count": null,
      "outputs": []
    },
    {
      "cell_type": "code",
      "source": [
        "'''Membership operators:checks if value is present or not in a string or any sequence\n",
        "example'''\n",
        "a=\"pwskills\"\n",
        "\"p\" in a\n",
        "#output :True\n",
        "\"k\" not in a\n",
        "#output : False\n"
      ],
      "metadata": {
        "id": "cmbus1DaYozh"
      },
      "execution_count": null,
      "outputs": []
    },
    {
      "cell_type": "code",
      "source": [
        "'''Identity Operators >> compares the location of two objects'''\n",
        "#for example\n",
        "a=2\n",
        "b=3\n",
        "a is b\n",
        "#output False\n",
        "a is not b\n",
        "#output True\n",
        "c=4\n",
        "d=c\n",
        "c is d\n",
        "#output True\n"
      ],
      "metadata": {
        "id": "lmfpHoQXZeMr"
      },
      "execution_count": null,
      "outputs": []
    },
    {
      "cell_type": "code",
      "source": [
        "# Bitwise Operators\n",
        "# Bitwise operators perform operations on the binary representations of numbers.\n",
        "\n",
        "# Example Code\n",
        "\n",
        "# Bitwise AND\n",
        "a = 5   # 101 in binary\n",
        "b = 3   # 011 in binary\n",
        "print(a & b)  # Output: 1\n",
        "\n",
        "# Bitwise OR\n",
        "a = 5   # 101 in binary\n",
        "b = 3   # 011 in binary\n",
        "print(a | b)  # Output: 7"
      ],
      "metadata": {
        "colab": {
          "base_uri": "https://localhost:8080/"
        },
        "id": "IpRjotXIaQp0",
        "outputId": "8a7b1141-a32f-47bb-9120-576a32e035b2"
      },
      "execution_count": 44,
      "outputs": [
        {
          "output_type": "stream",
          "name": "stdout",
          "text": [
            "1\n",
            "7\n"
          ]
        }
      ]
    },
    {
      "cell_type": "code",
      "source": [
        "# Example Code of Bitwise Xor Operator,it gives value of 1 always but not when both are 0 or 1\n",
        "\n",
        "a = 5   # 101 in binary\n",
        "b = 3   # 011 in binary\n",
        "print(\"Bitwise XOR:\", a ^ b)  # Output: 6 (110 in binary)\n",
        "\n"
      ],
      "metadata": {
        "id": "iKJ3b1XDbEL1"
      },
      "execution_count": null,
      "outputs": []
    },
    {
      "cell_type": "code",
      "source": [
        "#Question-5 Explain the concept of type casting in Python with examples?\n",
        "# Type Casting in Python\n",
        "#Type casting is the process of converting one data type to another.\n",
        "\n",
        "# Example Code\n",
        "\n",
        "# Implicit Type Casting\n",
        "a = 5\n",
        "b = 2.5\n",
        "print(a + b)  # Output: 7.5 (integer is implicitly converted to float)\n",
        "\n",
        "# Explicit Type Casting\n",
        "a = 5\n",
        "b = float(a)\n",
        "print(b)  # Output: 5.0 (integer is explicitly converted to float)\n",
        "\n",
        "# String to Integer\n",
        "a = \"10\"\n",
        "b = int(a)\n",
        "print(b)  # Output: 10\n",
        "\n",
        "# Integer to String\n",
        "a = 10\n",
        "b = str(a)\n",
        "print(b)  # Output: \"10\"\n",
        "\n"
      ],
      "metadata": {
        "id": "CE95PS0qbfZs"
      },
      "execution_count": null,
      "outputs": []
    },
    {
      "cell_type": "code",
      "source": [
        "#Question--6->How do conditional statements work in Python? Illustrate with examples?\n",
        "# Conditional Statements in Python\n",
        "      #Conditional statements are used to execute different blocks of code based on certain conditions.\n",
        "#For  Example Code\n",
        "# Conditional Statements\n",
        "\n",
        "# If Statement\n",
        "x = 10\n",
        "if x > 5:\n",
        "    print(\"x is greater than 5\")\n",
        "    # Output: x is greater than 5\n",
        "\n",
        "# If-Else Statement\n",
        "x = 3\n",
        "if x > 5:\n",
        "    print(\"x is greater than 5\")\n",
        "else:\n",
        "    print(\"x is less than or equal to 5\")\n",
        "    # Output: x is less than or equal to 5\n",
        "\n",
        "# If-Elif-Else Statement\n",
        "x = 5\n",
        "if x > 5:\n",
        "    print(\"x is greater than 5\")\n",
        "elif x == 5:\n",
        "    print(\"x is equal to 5\")\n",
        "else:\n",
        "    print(\"x is less than 5\")\n",
        "#output: xis eqial to 5\n",
        "# Grading System Example\n",
        "marks = 85\n",
        "if marks >= 90:\n",
        "    print(\"Grade A\")\n",
        "elif marks >= 80:\n",
        "    print(\"Grade B\")  # Output: Grade B\n",
        "elif marks >= 70:\n",
        "    print(\"Grade C\")\n",
        "else:\n",
        "    print(\"Grade F\")\n",
        "# Output: Grade B\n",
        "# Nested If Statement\n",
        "x = 10\n",
        "y = 5\n",
        "if x > 5:\n",
        "    if y > 2:\n",
        "        print(\"x is greater than 5 and y is greater than 2\")\n",
        "        # Output: x is greater than 5 and y is greater than 2\n",
        "\n"
      ],
      "metadata": {
        "colab": {
          "base_uri": "https://localhost:8080/"
        },
        "id": "ymK_pWl-cE3-",
        "outputId": "ebc26688-6b2a-43c6-a45a-debd1fe5ed5e"
      },
      "execution_count": 45,
      "outputs": [
        {
          "output_type": "stream",
          "name": "stdout",
          "text": [
            "x is greater than 5\n",
            "x is less than or equal to 5\n",
            "x is equal to 5\n",
            "Grade B\n",
            "x is greater than 5 and y is greater than 2\n"
          ]
        }
      ]
    },
    {
      "cell_type": "code",
      "source": [
        "#Question---7->Describe the different types of loops in Python and their use cases with examples.\n",
        "# Loops in Python\n",
        "# Loops are used to repeat a block of code multiple times.\n",
        "\n",
        "# While Loop\n",
        "# Used to repeat a block of code while a condition is true.\n",
        "\n",
        "# While Loop Example\n",
        "\n",
        "i = 0\n",
        "while i <= 7:\n",
        "    print(i)\n",
        "    i += 1\n",
        "\n",
        "# Output:\n",
        "\n",
        "\n",
        "# 0\n",
        "# 1\n",
        "# 2\n",
        "# 3\n",
        "# 4\n",
        "# 5\n",
        "# 6\n",
        "# 7\n",
        "\n",
        "\n",
        "# While Loop with Break\n",
        "\n",
        "i = 0\n",
        "while i <= 7:\n",
        "    if i == 4:\n",
        "        break\n",
        "    print(i)\n",
        "    i += 1\n",
        "\n",
        "\n",
        "# Output:\n",
        "\n",
        "\n",
        "# 0\n",
        "# 1\n",
        "# 2\n",
        "# 3\n",
        "\n",
        "\n",
        "# While Loop with Continue\n",
        "\n",
        "i = 0\n",
        "while i <= 7:\n",
        "    i += 1\n",
        "    if i == 4:\n",
        "        continue\n",
        "    print(i)\n",
        "\n",
        "\n",
        "# Output:\n",
        "\n",
        "\n",
        "# 1\n",
        "# 2\n",
        "# 3\n",
        "# 5\n",
        "# 6\n",
        "# 7\n",
        "# 8\n",
        "\n",
        "\n",
        "# Note that in the continue example, i is incremented before the check, so the output starts from 1 and skips 4."
      ],
      "metadata": {
        "id": "01KcleWud-hE"
      },
      "execution_count": null,
      "outputs": []
    },
    {
      "cell_type": "code",
      "source": [
        "# For Loop\n",
        "'''Used to iterate over a sequence (such as a list).\n",
        "For Loop Example'''\n",
        "\n",
        "numbers = [0, 1, 2, 3, 4, 5, 6, 7]\n",
        "for num in numbers:\n",
        "    print(num)\n",
        "'''Output:\n",
        "0\n",
        "1\n",
        "2\n",
        "3\n",
        "4\n",
        "5\n",
        "6\n",
        "7'''\n",
        "numbers = [0, 1, 2, 3, 4, 5, 6, 7]\n",
        "for num in numbers:\n",
        "    if num == 4:\n",
        "        break\n",
        "    print(num)\n",
        "'''Output:\n",
        "0\n",
        "1\n",
        "2\n",
        "3\n",
        "For Loop with Continue'''\n",
        "\n",
        "numbers = [0, 1, 2, 3, 4, 5, 6, 7]\n",
        "for num in numbers:\n",
        "    if num == 4:\n",
        "        continue\n",
        "    print(num)\n",
        "'''Output:\n",
        "\n",
        "\n",
        "0\n",
        "1\n",
        "2\n",
        "3\n",
        "5\n",
        "6\n",
        "7'''"
      ],
      "metadata": {
        "colab": {
          "base_uri": "https://localhost:8080/",
          "height": 365
        },
        "id": "X52gl68Mg3Gq",
        "outputId": "1317d545-054a-465e-8627-45df040c42bb"
      },
      "execution_count": 46,
      "outputs": [
        {
          "output_type": "stream",
          "name": "stdout",
          "text": [
            "0\n",
            "1\n",
            "2\n",
            "3\n",
            "4\n",
            "5\n",
            "6\n",
            "7\n",
            "0\n",
            "1\n",
            "2\n",
            "3\n",
            "0\n",
            "1\n",
            "2\n",
            "3\n",
            "5\n",
            "6\n",
            "7\n"
          ]
        },
        {
          "output_type": "execute_result",
          "data": {
            "text/plain": [
              "'Output:\\n\\n\\n0\\n1\\n2\\n3\\n5\\n6\\n7'"
            ],
            "application/vnd.google.colaboratory.intrinsic+json": {
              "type": "string"
            }
          },
          "metadata": {},
          "execution_count": 46
        }
      ]
    }
  ]
}